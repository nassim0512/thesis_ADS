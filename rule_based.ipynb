{
  "nbformat": 4,
  "nbformat_minor": 0,
  "metadata": {
    "colab": {
      "provenance": []
    },
    "kernelspec": {
      "name": "python3",
      "display_name": "Python 3"
    },
    "language_info": {
      "name": "python"
    }
  },
  "cells": [
    {
      "cell_type": "markdown",
      "source": [
        "Import libraries"
      ],
      "metadata": {
        "id": "eslfyYOaPhaD"
      }
    },
    {
      "cell_type": "code",
      "source": [
        "import re"
      ],
      "metadata": {
        "id": "-idkezc6PgvC"
      },
      "execution_count": null,
      "outputs": []
    },
    {
      "cell_type": "code",
      "execution_count": null,
      "metadata": {
        "id": "EvcxJsiLPT3e"
      },
      "outputs": [],
      "source": [
        "def is_question(text):\n",
        "    # Check for question mark\n",
        "    if \"?\" in text:\n",
        "        return True\n",
        "\n",
        "    # Check for 5W1H words\n",
        "    if re.search(r'\\b(wie|wat|wanneer|waar|waarom|hoe)\\b', text, re.IGNORECASE):\n",
        "        return True\n",
        "\n",
        "    # Check for specific rule-based patterns\n",
        "    patterns = [\n",
        "        r\"\\b(ik|wij|jij|u|hij|zij|ze)\\s*(probeer|wil|moet)\\s*te\\s*(weten|vinden|begrijpen)\\b\",\n",
        "    ]\n",
        "    for pattern in patterns:\n",
        "        if re.search(pattern, text, re.IGNORECASE):\n",
        "            return True\n",
        "\n",
        "    # If none of the conditions are met, return False\n",
        "    return False\n",
        "\n",
        "df['is_question'] = df['clean_text'].apply(is_question)\n",
        "\n",
        "# Filter the DataFrame to get only rows where 'is_question' is True\n",
        "df_questions = df[df['is_question']]\n",
        "\n",
        "# Display the count of detected questions and sample rows\n",
        "print(f\"Number of questions detected: {len(df_questions)}\")"
      ]
    },
    {
      "cell_type": "code",
      "source": [
        "def is_concern(text):\n",
        "    concern_words = r'\\b(zorgen|zorg|bang|zenuwachtig|ziekbezorgd|verontrust|paniek|angst|ongerust|bezorgd|onrustig)\\b'\n",
        "\n",
        "    if re.search(concern_words, text, re.IGNORECASE):\n",
        "        return True\n",
        "\n",
        "    # If none of the conditions are met, return False\n",
        "    return False\n",
        "\n",
        "df['is_concern'] = df['clean_text'].apply(is_concern)\n",
        "\n",
        "# Filter the DataFrame to get only rows where 'is_question' is True\n",
        "df_concerns = df[df['is_concern']]\n",
        "\n",
        "# Display the count of detected questions and sample rows\n",
        "print(f\"Number of doubts detected: {len(df_concerns)}\")"
      ],
      "metadata": {
        "id": "Tiz83aYEPYcz"
      },
      "execution_count": null,
      "outputs": []
    },
    {
      "cell_type": "code",
      "source": [
        "def is_doubt(text):\n",
        "    # Check for twijfelwoorden (doubt words)\n",
        "    doubt_words = r'\\b(twijfel|misschien|mogelijk|waarschijnlijk|vermoedelijk|denk|vraag me af|zou kunnen|wellicht|kan zijn dat|eventueel|soms|bijna|als het ware|soort van|hopelijk|onder voorbehoud|stel dat|af en toe|lijkt erop dat|kan zijn dat|mogelijkerwijs|schijnbaar|zou kunnen zijn|in zekere zin|vast en zeker|wie weet|aannemelijk|ongetwijfeld|per slot van rekening|qua|zou moeten|men zou kunnen zeggen|er is een kans|theoretisch)\\b'\n",
        "    if re.search(doubt_words, text, re.IGNORECASE):\n",
        "        return True\n",
        "\n",
        "    # If none of the conditions are met, return False\n",
        "    return False\n",
        "\n",
        "df['is_doubt'] = df['clean_text'].apply(is_doubt)\n",
        "\n",
        "# Filter the DataFrame to get only rows where 'is_question' is True\n",
        "df_doubts = df[df['is_doubt']]\n",
        "\n",
        "# Display the count of detected questions and sample rows\n",
        "print(f\"Number of doubts detected: {len(df_doubts)}\")"
      ],
      "metadata": {
        "id": "VKsESrimPcnP"
      },
      "execution_count": null,
      "outputs": []
    }
  ]
}