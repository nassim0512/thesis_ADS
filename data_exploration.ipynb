{
  "nbformat": 4,
  "nbformat_minor": 0,
  "metadata": {
    "colab": {
      "provenance": []
    },
    "kernelspec": {
      "name": "python3",
      "display_name": "Python 3"
    },
    "language_info": {
      "name": "python"
    }
  },
  "cells": [
    {
      "cell_type": "markdown",
      "source": [
        "Installing libraries"
      ],
      "metadata": {
        "id": "VblMWoTcXQ6f"
      }
    },
    {
      "cell_type": "code",
      "execution_count": null,
      "metadata": {
        "id": "HLj7PAorW0iu"
      },
      "outputs": [],
      "source": [
        "!python3 -m pip install --user wordcloud\n",
        "!python3 -m pip install --user nltk\n",
        "!python3 -m pip install --user seaborn"
      ]
    },
    {
      "cell_type": "markdown",
      "source": [
        "Importing libraries"
      ],
      "metadata": {
        "id": "kVRZojMoXaBc"
      }
    },
    {
      "cell_type": "code",
      "source": [
        "import pandas as pd\n",
        "# Loading in packages\n",
        "import pandas as pd\n",
        "import seaborn as sns\n",
        "import matplotlib.pyplot as plt\n",
        "import os\n",
        "import sys\n",
        "import pickle\n",
        "from collections import Counter\n",
        "import nltk\n",
        "from nltk.corpus import stopwords\n",
        "from wordcloud import WordCloud, STOPWORDS\n",
        "\n",
        "# Plotting the character length distribution\n",
        "from scipy import stats\n",
        "\n",
        "nltk.download('stopwords')\n"
      ],
      "metadata": {
        "id": "lp2ECrweXWjm"
      },
      "execution_count": null,
      "outputs": []
    },
    {
      "cell_type": "markdown",
      "source": [
        "Exploration"
      ],
      "metadata": {
        "id": "EoJz6G9RXrBS"
      }
    },
    {
      "cell_type": "code",
      "source": [
        "# Loading the dataset\n",
        "df = pd.read_pickle(\"data_randomized_complete_correct.pkl\")"
      ],
      "metadata": {
        "id": "ZYfLAuEyXhCX"
      },
      "execution_count": null,
      "outputs": []
    },
    {
      "cell_type": "code",
      "source": [
        "# Checking amount of rows\n",
        "df.shape"
      ],
      "metadata": {
        "id": "vveUZXtXXj_n"
      },
      "execution_count": null,
      "outputs": []
    },
    {
      "cell_type": "code",
      "source": [
        "# Creating the plotting df\n",
        "df_plot = df.copy()\n",
        "df_plot['character length'] = df['full_text'].apply(len)\n",
        "z_scores = stats.zscore(df_plot['character length'])\n",
        "df_plot['z_score'] = z_scores\n",
        "df_plot = df_plot[(df_plot['z_score'] > -3) & (df_plot['z_score'] < 3)]\n"
      ],
      "metadata": {
        "id": "c2odP0HfXpsD"
      },
      "execution_count": null,
      "outputs": []
    },
    {
      "cell_type": "code",
      "source": [
        "import matplotlib.pyplot as plt\n",
        "\n",
        "# Plotting count of character length\n",
        "plt.hist(df_plot['character length'], bins = 100)\n",
        "\n",
        "plt.xlabel(\"character length\")\n",
        "plt.ylabel(\"count\")"
      ],
      "metadata": {
        "id": "SkvPwFFWXsg4"
      },
      "execution_count": null,
      "outputs": []
    },
    {
      "cell_type": "code",
      "source": [
        "print('The minimum and maximum character lengths are:')\n",
        "print(min(df_plot['character length']))\n",
        "print(max(df_plot['character length']))"
      ],
      "metadata": {
        "id": "Xdem1M_sXuzs"
      },
      "execution_count": null,
      "outputs": []
    },
    {
      "cell_type": "code",
      "source": [
        "# Finding the peaks in the histogram\n",
        "counts = df_plot.groupby(by=['character length']).count()\n",
        "\n",
        "# Renaming the first column to 'Amount of Responses'\n",
        "counts = counts.rename(columns={counts.columns[0]: 'Amount of Responses'})\n",
        "\n",
        "# Applying the lambda function to sort and get the top 5 entries\n",
        "top_counts = counts.apply(lambda x: x.sort_values(ascending=False).head(5))\n",
        "\n",
        "top_counts"
      ],
      "metadata": {
        "id": "somkC0ssX31X"
      },
      "execution_count": null,
      "outputs": []
    },
    {
      "cell_type": "code",
      "source": [
        "# Select entries where character length is 28\n",
        "char_28 = df_plot[df_plot['character length'] == 28]\n",
        "\n",
        "# Group by 'full_text' and count occurrences\n",
        "char_28_counts = char_28.groupby('full_text').size().reset_index(name='Amount of Responses')\n",
        "\n",
        "# Sort the counts in descending order and get the top 10\n",
        "top_char_28_counts = char_28_counts.sort_values('Amount of Responses', ascending=False).head(10)\n",
        "\n",
        "top_char_28_counts"
      ],
      "metadata": {
        "id": "v_fIZyhBX7DX"
      },
      "execution_count": null,
      "outputs": []
    },
    {
      "cell_type": "code",
      "source": [
        "\n",
        "# Select entries where character length is 3\n",
        "char_3 = df_plot[df_plot['character length'] == 3]\n",
        "\n",
        "# Group by 'full_text' and count occurrences\n",
        "char_3_counts = char_3.groupby('full_text').size().reset_index(name='Amount of Responses')\n",
        "\n",
        "# Sort the counts in descending order and get the top 10\n",
        "top_char_3_counts = char_3_counts.sort_values('Amount of Responses', ascending=False).head(10)\n",
        "\n",
        "top_char_3_counts"
      ],
      "metadata": {
        "id": "myvPWaeGYHgp"
      },
      "execution_count": null,
      "outputs": []
    },
    {
      "cell_type": "code",
      "source": [
        "# Select entries where character length is 2\n",
        "char_2 = df_plot[df_plot['character length'] == 2]\n",
        "\n",
        "# Group by 'full_text' and count occurrences, then rename the column for counts\n",
        "char_2_counts = char_2.groupby('full_text').size().reset_index(name='Amount of Responses')\n",
        "\n",
        "# Sort the counts in descending order and get the top 10\n",
        "top_char_2_counts = char_2_counts.sort_values('Amount of Responses', ascending=False).head(10)\n",
        "\n",
        "top_char_2_counts"
      ],
      "metadata": {
        "id": "IGsHw_OCYNfN"
      },
      "execution_count": null,
      "outputs": []
    },
    {
      "cell_type": "code",
      "source": [
        "# Select entries where character length is 4\n",
        "char_4 = df_plot[df_plot['character length'] == 4]\n",
        "\n",
        "# Group by 'full_text' and count occurrences, then rename the column for counts\n",
        "char_4_counts = char_4.groupby('full_text').size().reset_index(name='Amount of Responses')\n",
        "\n",
        "# Sort the counts in descending order and get the top 10\n",
        "top_char_4_counts = char_4_counts.sort_values('Amount of Responses', ascending=False).head(10)\n",
        "\n",
        "top_char_4_counts"
      ],
      "metadata": {
        "id": "CzfVrAmVYP__"
      },
      "execution_count": null,
      "outputs": []
    },
    {
      "cell_type": "markdown",
      "source": [
        "All the non-values have been removed from this part"
      ],
      "metadata": {
        "id": "vuaAxqDoYUuw"
      }
    },
    {
      "cell_type": "code",
      "source": [
        "# Plotting the histogram without the bad answers\n",
        "df_plot_1 = df_plot[(df_plot['character length'] != 0) & (df_plot['full_text'] != 'Nee, ik heb geen opmerkingen') & (df_plot['character length'] != 1) & (df_plot['character length'] != 2) & (df_plot['character length'] != 3) & (df_plot['character length'] != 4)]\n",
        "plt.hist(df_plot_1['character length'], bins = 100)\n",
        "\n",
        "plt.xlabel(\"character length\")\n",
        "plt.ylabel(\"count\")\n"
      ],
      "metadata": {
        "id": "F4Mk7rtcYXtq"
      },
      "execution_count": null,
      "outputs": []
    },
    {
      "cell_type": "code",
      "source": [
        "from collections import Counter\n",
        "#from wordcloud import WordCloud, STOPWORDS\n",
        "\n",
        "def wordCloudFunction(df,column,numWords):\n",
        "    topic_words = [ z.lower() for y in\n",
        "                       [ x.split() for x in df[column] if isinstance(x, str)]\n",
        "                       for z in y]\n",
        "    word_count_dict = dict(Counter(topic_words))\n",
        "    popular_words = sorted(word_count_dict, key = word_count_dict.get, reverse = True)\n",
        "    popular_words_nonstop = [w for w in popular_words if w not in stopwords.words(\"dutch\")]\n",
        "    word_string=str(popular_words_nonstop)\n",
        "    wordcloud = WordCloud(stopwords=STOPWORDS,\n",
        "                          background_color='white',\n",
        "                          max_words=numWords,\n",
        "                          width=1000,height=1000,\n",
        "                         ).generate(word_string)\n",
        "    plt.clf()\n",
        "    plt.imshow(wordcloud)\n",
        "    plt.axis('off')\n",
        "    plt.show()\n",
        "\n",
        "wordCloudFunction(df,'full_text', 500)"
      ],
      "metadata": {
        "id": "IfQJ6tQ-YYt0"
      },
      "execution_count": null,
      "outputs": []
    },
    {
      "cell_type": "code",
      "source": [
        "def wordBarGraphFunction(df,column,title):\n",
        "    topic_words = [ z.lower() for y in\n",
        "                       [ x.split() for x in df[column] if isinstance(x, str)]\n",
        "                       for z in y]\n",
        "    word_count_dict = dict(Counter(topic_words))\n",
        "    popular_words = sorted(word_count_dict, key = word_count_dict.get, reverse = True)\n",
        "    popular_words_nonstop = [w for w in popular_words if w not in stopwords.words(\"dutch\")]\n",
        "    plt.figure(figsize=(10, 8))\n",
        "    plt.barh(range(50), [word_count_dict[w] for w in reversed(popular_words_nonstop[0:50])])\n",
        "    plt.yticks([x + 0.5 for x in range(50)], reversed(popular_words_nonstop[0:50]))\n",
        "    plt.title(title)\n",
        "    plt.show()\n",
        "\n",
        "wordBarGraphFunction(df,'full_text','test')"
      ],
      "metadata": {
        "id": "ix22iOerYffv"
      },
      "execution_count": null,
      "outputs": []
    },
    {
      "cell_type": "code",
      "source": [
        "wordBarGraphFunction(df_plot_1,'full_text','test')"
      ],
      "metadata": {
        "id": "3T1x0Pf1Yms0"
      },
      "execution_count": null,
      "outputs": []
    }
  ]
}