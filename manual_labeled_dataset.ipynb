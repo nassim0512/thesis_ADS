{
  "nbformat": 4,
  "nbformat_minor": 0,
  "metadata": {
    "colab": {
      "provenance": []
    },
    "kernelspec": {
      "name": "python3",
      "display_name": "Python 3"
    },
    "language_info": {
      "name": "python"
    }
  },
  "cells": [
    {
      "cell_type": "markdown",
      "source": [
        "Loading libraries"
      ],
      "metadata": {
        "id": "vIYWJTBeOEa7"
      }
    },
    {
      "cell_type": "code",
      "execution_count": null,
      "metadata": {
        "id": "BzdeCQx1M86s"
      },
      "outputs": [],
      "source": [
        "import pandas as pd"
      ]
    },
    {
      "cell_type": "code",
      "source": [
        "df = pd.read_csv(\"classification_cleaned_data.csv\")"
      ],
      "metadata": {
        "id": "L2lO7nrHNICx"
      },
      "execution_count": null,
      "outputs": []
    },
    {
      "cell_type": "code",
      "source": [
        "# Questions testset\n",
        "questions_df = df[df['is_question'] == True]\n",
        "no_questions_df = df[df['is_question'] == False]\n",
        "sampled_questions_df = questions_df.sample(50, random_state=42)\n",
        "sampled_no_questions_df = no_questions_df.sample(50, random_state=42)\n",
        "combined_q_df = pd.concat([sampled_questions_df, sampled_no_questions_df], ignore_index=True)\n",
        "\n",
        "# Concerns testset\n",
        "concerns_df = df[df['is_concern'] == True]\n",
        "no_concerns_df = df[df['is_concern'] == False]\n",
        "sampled_concerns_df = concerns_df.sample(50, random_state=42)\n",
        "sampled_no_concerns_df = no_concerns_df.sample(50, random_state=42)\n",
        "combined_c_df = pd.concat([sampled_concerns_df, sampled_no_concerns_df], ignore_index=True)\n",
        "\n",
        "# Doubts testset\n",
        "doubts_df = df[df['is_doubt'] == True]\n",
        "no_doubts_df = df[df['is_doubt'] == False]\n",
        "sampled_doubts_df = doubts_df.sample(50, random_state=42)\n",
        "sampled_no_doubts_df = no_doubts_df.sample(50, random_state=42)\n",
        "combined_d_df = pd.concat([sampled_doubts_df, sampled_no_doubts_df], ignore_index=True)\n",
        "\n",
        "# Set display options to avoid truncation\n",
        "pd.set_option('display.max_colwidth', None)\n"
      ],
      "metadata": {
        "id": "hQ90W3STNJxO"
      },
      "execution_count": null,
      "outputs": []
    },
    {
      "cell_type": "code",
      "source": [
        "columns_to_keep_q = ['clean_text', 'is_question']\n",
        "test_q = combined_q_df[columns_to_keep_q]\n",
        "\n",
        "columns_to_keep_c = ['clean_text', 'is_concern']\n",
        "test_c = combined_c_df[columns_to_keep_c]\n",
        "\n",
        "columns_to_keep_d = ['clean_text', 'is_doubt']\n",
        "test_d = combined_d_df[columns_to_keep_d]"
      ],
      "metadata": {
        "id": "XRFpTZ-XNvO9"
      },
      "execution_count": null,
      "outputs": []
    },
    {
      "cell_type": "markdown",
      "source": [
        "Manual changing of the false positives and negatives"
      ],
      "metadata": {
        "id": "LGiB5sWuOmlY"
      }
    },
    {
      "cell_type": "code",
      "source": [
        "rows_q_fp = [16, 32]\n",
        "rows_q_fn = [65]\n",
        "column_to_change = 'is_question'\n",
        "\n",
        "test_q.loc[rows_q_fp, column_to_change] = False\n",
        "test_q.loc[rows_q_fn, column_to_change] = True\n",
        "\n",
        "rows_d_fp = [3, 7, 8, 17, 18, 21, 23, 29, 40, 42, 48]\n",
        "rows_d_fn = [50, 51, 60, 71, 80, 95]\n",
        "column_to_change = 'is_doubt'\n",
        "\n",
        "test_d.loc[rows_d_fp, column_to_change] = False\n",
        "test_d.loc[rows_d_fn, column_to_change] = True\n",
        "\n",
        "\n",
        "rows_c_fp = [3, 11, 13, 15, 16, 17, 18, 26, 37, 41, 48]\n",
        "rows_c_fn = [51, 73, 97]\n",
        "column_to_change = 'is_concern'\n",
        "\n",
        "\n",
        "test_c.loc[rows_c_fp, column_to_change] = False\n",
        "test_c.loc[rows_c_fn, column_to_change] = True"
      ],
      "metadata": {
        "id": "kWXL5MH4NxhS"
      },
      "execution_count": null,
      "outputs": []
    },
    {
      "cell_type": "markdown",
      "source": [
        "Saving the datasets"
      ],
      "metadata": {
        "id": "gKLTSea3Orhr"
      }
    },
    {
      "cell_type": "code",
      "source": [
        "test_q.to_csv('question_training_dataset.csv', index=False)\n",
        "test_c.to_csv('concern_training_dataset.csv', index=False)\n",
        "test_d.to_csv('doubt_training_dataset.csv', index=False)"
      ],
      "metadata": {
        "id": "DFA-7NdQOCeu"
      },
      "execution_count": null,
      "outputs": []
    }
  ]
}